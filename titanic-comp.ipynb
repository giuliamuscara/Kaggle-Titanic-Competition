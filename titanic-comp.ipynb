{
 "cells": [
  {
   "cell_type": "code",
   "execution_count": 1,
   "id": "c7fb4514",
   "metadata": {
    "_cell_guid": "b1076dfc-b9ad-4769-8c92-a6c4dae69d19",
    "_uuid": "8f2839f25d086af736a60e9eeb907d3b93b6e0e5",
    "execution": {
     "iopub.execute_input": "2023-06-02T22:41:49.602662Z",
     "iopub.status.busy": "2023-06-02T22:41:49.601720Z",
     "iopub.status.idle": "2023-06-02T22:41:51.615217Z",
     "shell.execute_reply": "2023-06-02T22:41:51.614414Z"
    },
    "papermill": {
     "duration": 2.020041,
     "end_time": "2023-06-02T22:41:51.617422",
     "exception": false,
     "start_time": "2023-06-02T22:41:49.597381",
     "status": "completed"
    },
    "tags": []
   },
   "outputs": [
    {
     "name": "stdout",
     "output_type": "stream",
     "text": [
      "/kaggle/input/titanic/train.csv\n",
      "/kaggle/input/titanic/test.csv\n",
      "/kaggle/input/titanic/gender_submission.csv\n",
      "Index(['PassengerId', 'Survived', 'Pclass', 'Name', 'Sex', 'Age', 'SibSp',\n",
      "       'Parch', 'Ticket', 'Fare', 'Cabin', 'Embarked'],\n",
      "      dtype='object')\n",
      "(891, 692) (891,)\n"
     ]
    },
    {
     "name": "stderr",
     "output_type": "stream",
     "text": [
      "/tmp/ipykernel_20/632092319.py:31: SettingWithCopyWarning: \n",
      "A value is trying to be set on a copy of a slice from a DataFrame\n",
      "\n",
      "See the caveats in the documentation: https://pandas.pydata.org/pandas-docs/stable/user_guide/indexing.html#returning-a-view-versus-a-copy\n",
      "  samples['Age'].replace(np.nan, mean_age.round(), inplace=True)\n",
      "/tmp/ipykernel_20/632092319.py:32: SettingWithCopyWarning: \n",
      "A value is trying to be set on a copy of a slice from a DataFrame.\n",
      "Try using .loc[row_indexer,col_indexer] = value instead\n",
      "\n",
      "See the caveats in the documentation: https://pandas.pydata.org/pandas-docs/stable/user_guide/indexing.html#returning-a-view-versus-a-copy\n",
      "  samples.loc[samples['Name'].notnull(), 'Name'] = samples['Name'].str.len()\n",
      "/tmp/ipykernel_20/632092319.py:32: DeprecationWarning: In a future version, `df.iloc[:, i] = newvals` will attempt to set the values inplace instead of always setting a new array. To retain the old behavior, use either `df[df.columns[i]] = newvals` or, if columns are non-unique, `df.isetitem(i, newvals)`\n",
      "  samples.loc[samples['Name'].notnull(), 'Name'] = samples['Name'].str.len()\n",
      "/tmp/ipykernel_20/632092319.py:37: SettingWithCopyWarning: \n",
      "A value is trying to be set on a copy of a slice from a DataFrame\n",
      "\n",
      "See the caveats in the documentation: https://pandas.pydata.org/pandas-docs/stable/user_guide/indexing.html#returning-a-view-versus-a-copy\n",
      "  samples['Embarked'].replace(np.NaN, \"S\", inplace=True)\n"
     ]
    },
    {
     "name": "stdout",
     "output_type": "stream",
     "text": [
      "0.8565022421524664\n"
     ]
    }
   ],
   "source": [
    "# This Python 3 environment comes with many helpful analytics libraries installed\n",
    "# It is defined by the kaggle/python Docker image: https://github.com/kaggle/docker-python\n",
    "# For example, here's several helpful packages to load\n",
    "\n",
    "import numpy as np # linear algebra\n",
    "import pandas as pd # data processing, CSV file I/O (e.g. pd.read_csv)\n",
    "\n",
    "# Input data files are available in the read-only \"../input/\" directory\n",
    "# For example, running this (by clicking run or pressing Shift+Enter) will list all files under the input directory\n",
    "\n",
    "import os\n",
    "for dirname, _, filenames in os.walk('/kaggle/input'):\n",
    "    for filename in filenames:\n",
    "        print(os.path.join(dirname, filename))\n",
    "\n",
    "import csv \n",
    "\n",
    "np.random.seed(31415)\n",
    "#test_file = pd.read_csv(\"/kaggle/input/titanic/test.csv\")\n",
    "#print(test_file.shape) #(418,11)\n",
    "#test_data = np.array(test_file)\n",
    "\n",
    "train_file = pd.read_csv(\"/kaggle/input/titanic/train.csv\")\n",
    "#print(train_file.shape) #(891,12)\n",
    "#print(train_file.describe())\n",
    "print(train_file.columns)\n",
    "samples = train_file[['Pclass', 'Name','Sex', 'Age', 'SibSp',\n",
    "       'Parch', 'Ticket', 'Fare','Embarked']] #excluding cabin, many nans\n",
    "\n",
    "mean_age = samples['Age'].mean()\n",
    "samples['Age'].replace(np.nan, mean_age.round(), inplace=True)\n",
    "samples.loc[samples['Name'].notnull(), 'Name'] = samples['Name'].str.len()\n",
    "#samples.loc[samples['Cabin'].notnull(), 'Cabin'] = samples['Cabin'].str[0] #replace cabin with its initial letter\n",
    "#print(samples['Cabin'].value_counts(dropna=False)) \n",
    "#cond = (samples['Sex'] == female)\n",
    "#result_female_ages = samples[cond].column_3.values[0]\n",
    "samples['Embarked'].replace(np.NaN, \"S\", inplace=True)\n",
    "#print(samples.iloc[:,:].head(10))\n",
    "samples = pd.get_dummies(samples, prefix=['Sex', 'Embarked', 'Ticket'],\n",
    "                         columns=['Sex', 'Embarked','Ticket']) #one-hot encoding\n",
    "samples = np.array(samples)\n",
    "\n",
    "labels = train_file[ 'Survived']\n",
    "print(samples.shape, labels.shape)\n",
    "labels = np.array(labels)\n",
    "\n",
    "from sklearn.model_selection import train_test_split\n",
    "train_features, test_features, train_labels, test_labels = train_test_split(samples, labels, test_size = 0.25, random_state = 42)\n",
    "#fare prove con k-fold cross validation \n",
    "from sklearn.ensemble import RandomForestClassifier\n",
    "from sklearn.metrics import accuracy_score\n",
    "clf = RandomForestClassifier(n_estimators=10)\n",
    "clf = clf.fit(train_features, train_labels)\n",
    "predictions = clf.predict(test_features)\n",
    "accuracy = accuracy_score(test_labels, predictions)\n",
    "print(accuracy)\n",
    "        \n",
    "# You can write up to 20GB to the current directory (/kaggle/working/) that gets preserved as output when you create a version using \"Save & Run All\" \n",
    "# You can also write temporary files to /kaggle/temp/, but they won't be saved outside of the current session"
   ]
  }
 ],
 "metadata": {
  "kernelspec": {
   "display_name": "Python 3",
   "language": "python",
   "name": "python3"
  },
  "language_info": {
   "codemirror_mode": {
    "name": "ipython",
    "version": 3
   },
   "file_extension": ".py",
   "mimetype": "text/x-python",
   "name": "python",
   "nbconvert_exporter": "python",
   "pygments_lexer": "ipython3",
   "version": "3.10.10"
  },
  "papermill": {
   "default_parameters": {},
   "duration": 16.100146,
   "end_time": "2023-06-02T22:41:52.641729",
   "environment_variables": {},
   "exception": null,
   "input_path": "__notebook__.ipynb",
   "output_path": "__notebook__.ipynb",
   "parameters": {},
   "start_time": "2023-06-02T22:41:36.541583",
   "version": "2.4.0"
  }
 },
 "nbformat": 4,
 "nbformat_minor": 5
}
